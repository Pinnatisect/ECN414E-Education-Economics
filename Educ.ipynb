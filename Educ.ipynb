{
 "cells": [
  {
   "cell_type": "code",
   "execution_count": 1,
   "id": "c5961548",
   "metadata": {},
   "outputs": [],
   "source": [
    "import numpy as np\n",
    "import pandas as pd\n",
    "import matplotlib.pyplot as plt"
   ]
  },
  {
   "cell_type": "code",
   "execution_count": 2,
   "id": "83b8c70c",
   "metadata": {},
   "outputs": [],
   "source": [
    "data = pd.read_excel(\"data.xlsx\", index_col= None, header = 0)"
   ]
  },
  {
   "cell_type": "code",
   "execution_count": 3,
   "id": "f626aa9d",
   "metadata": {},
   "outputs": [
    {
     "data": {
      "text/html": [
       "<div>\n",
       "<style scoped>\n",
       "    .dataframe tbody tr th:only-of-type {\n",
       "        vertical-align: middle;\n",
       "    }\n",
       "\n",
       "    .dataframe tbody tr th {\n",
       "        vertical-align: top;\n",
       "    }\n",
       "\n",
       "    .dataframe thead th {\n",
       "        text-align: right;\n",
       "    }\n",
       "</style>\n",
       "<table border=\"1\" class=\"dataframe\">\n",
       "  <thead>\n",
       "    <tr style=\"text-align: right;\">\n",
       "      <th></th>\n",
       "      <th>version</th>\n",
       "      <th>doi</th>\n",
       "      <th>A_WAVE</th>\n",
       "      <th>A_YEAR</th>\n",
       "      <th>A_STUDY</th>\n",
       "      <th>B_COUNTRY</th>\n",
       "      <th>B_COUNTRY_ALPHA</th>\n",
       "      <th>C_COW_NUM</th>\n",
       "      <th>C_COW_ALPHA</th>\n",
       "      <th>D_INTERVIEW</th>\n",
       "      <th>...</th>\n",
       "      <th>WVS_Polmistrust_PartyVoter</th>\n",
       "      <th>WVS_LR_MedianVoter</th>\n",
       "      <th>WVS_LibCon_MedianVoter</th>\n",
       "      <th>v2psbars</th>\n",
       "      <th>v2psorgs</th>\n",
       "      <th>v2psprbrch</th>\n",
       "      <th>v2psprlnks</th>\n",
       "      <th>v2psplats</th>\n",
       "      <th>v2xnp_client</th>\n",
       "      <th>v2xps_party</th>\n",
       "    </tr>\n",
       "  </thead>\n",
       "  <tbody>\n",
       "    <tr>\n",
       "      <th>0</th>\n",
       "      <td>5-0-0 (2022-12-23)</td>\n",
       "      <td>doi.org/10.14281/18241.20</td>\n",
       "      <td>7</td>\n",
       "      <td>2018</td>\n",
       "      <td>2</td>\n",
       "      <td>792</td>\n",
       "      <td>TUR</td>\n",
       "      <td>640</td>\n",
       "      <td>TUR</td>\n",
       "      <td>792070001</td>\n",
       "      <td>...</td>\n",
       "      <td>NaN</td>\n",
       "      <td>NaN</td>\n",
       "      <td>NaN</td>\n",
       "      <td>NaN</td>\n",
       "      <td>NaN</td>\n",
       "      <td>NaN</td>\n",
       "      <td>NaN</td>\n",
       "      <td>NaN</td>\n",
       "      <td>NaN</td>\n",
       "      <td>NaN</td>\n",
       "    </tr>\n",
       "    <tr>\n",
       "      <th>1</th>\n",
       "      <td>5-0-0 (2022-12-23)</td>\n",
       "      <td>doi.org/10.14281/18241.20</td>\n",
       "      <td>7</td>\n",
       "      <td>2018</td>\n",
       "      <td>2</td>\n",
       "      <td>792</td>\n",
       "      <td>TUR</td>\n",
       "      <td>640</td>\n",
       "      <td>TUR</td>\n",
       "      <td>792070002</td>\n",
       "      <td>...</td>\n",
       "      <td>NaN</td>\n",
       "      <td>NaN</td>\n",
       "      <td>NaN</td>\n",
       "      <td>NaN</td>\n",
       "      <td>NaN</td>\n",
       "      <td>NaN</td>\n",
       "      <td>NaN</td>\n",
       "      <td>NaN</td>\n",
       "      <td>NaN</td>\n",
       "      <td>NaN</td>\n",
       "    </tr>\n",
       "    <tr>\n",
       "      <th>2</th>\n",
       "      <td>5-0-0 (2022-12-23)</td>\n",
       "      <td>doi.org/10.14281/18241.20</td>\n",
       "      <td>7</td>\n",
       "      <td>2018</td>\n",
       "      <td>2</td>\n",
       "      <td>792</td>\n",
       "      <td>TUR</td>\n",
       "      <td>640</td>\n",
       "      <td>TUR</td>\n",
       "      <td>792070003</td>\n",
       "      <td>...</td>\n",
       "      <td>NaN</td>\n",
       "      <td>NaN</td>\n",
       "      <td>NaN</td>\n",
       "      <td>NaN</td>\n",
       "      <td>NaN</td>\n",
       "      <td>NaN</td>\n",
       "      <td>NaN</td>\n",
       "      <td>NaN</td>\n",
       "      <td>NaN</td>\n",
       "      <td>NaN</td>\n",
       "    </tr>\n",
       "    <tr>\n",
       "      <th>3</th>\n",
       "      <td>5-0-0 (2022-12-23)</td>\n",
       "      <td>doi.org/10.14281/18241.20</td>\n",
       "      <td>7</td>\n",
       "      <td>2018</td>\n",
       "      <td>2</td>\n",
       "      <td>792</td>\n",
       "      <td>TUR</td>\n",
       "      <td>640</td>\n",
       "      <td>TUR</td>\n",
       "      <td>792070004</td>\n",
       "      <td>...</td>\n",
       "      <td>NaN</td>\n",
       "      <td>NaN</td>\n",
       "      <td>NaN</td>\n",
       "      <td>NaN</td>\n",
       "      <td>NaN</td>\n",
       "      <td>NaN</td>\n",
       "      <td>NaN</td>\n",
       "      <td>NaN</td>\n",
       "      <td>NaN</td>\n",
       "      <td>NaN</td>\n",
       "    </tr>\n",
       "    <tr>\n",
       "      <th>4</th>\n",
       "      <td>5-0-0 (2022-12-23)</td>\n",
       "      <td>doi.org/10.14281/18241.20</td>\n",
       "      <td>7</td>\n",
       "      <td>2018</td>\n",
       "      <td>2</td>\n",
       "      <td>792</td>\n",
       "      <td>TUR</td>\n",
       "      <td>640</td>\n",
       "      <td>TUR</td>\n",
       "      <td>792070005</td>\n",
       "      <td>...</td>\n",
       "      <td>NaN</td>\n",
       "      <td>NaN</td>\n",
       "      <td>NaN</td>\n",
       "      <td>NaN</td>\n",
       "      <td>NaN</td>\n",
       "      <td>NaN</td>\n",
       "      <td>NaN</td>\n",
       "      <td>NaN</td>\n",
       "      <td>NaN</td>\n",
       "      <td>NaN</td>\n",
       "    </tr>\n",
       "  </tbody>\n",
       "</table>\n",
       "<p>5 rows × 606 columns</p>\n",
       "</div>"
      ],
      "text/plain": [
       "              version                        doi  A_WAVE  A_YEAR  A_STUDY  \\\n",
       "0  5-0-0 (2022-12-23)  doi.org/10.14281/18241.20       7    2018        2   \n",
       "1  5-0-0 (2022-12-23)  doi.org/10.14281/18241.20       7    2018        2   \n",
       "2  5-0-0 (2022-12-23)  doi.org/10.14281/18241.20       7    2018        2   \n",
       "3  5-0-0 (2022-12-23)  doi.org/10.14281/18241.20       7    2018        2   \n",
       "4  5-0-0 (2022-12-23)  doi.org/10.14281/18241.20       7    2018        2   \n",
       "\n",
       "   B_COUNTRY B_COUNTRY_ALPHA  C_COW_NUM C_COW_ALPHA  D_INTERVIEW  ...  \\\n",
       "0        792             TUR        640         TUR    792070001  ...   \n",
       "1        792             TUR        640         TUR    792070002  ...   \n",
       "2        792             TUR        640         TUR    792070003  ...   \n",
       "3        792             TUR        640         TUR    792070004  ...   \n",
       "4        792             TUR        640         TUR    792070005  ...   \n",
       "\n",
       "   WVS_Polmistrust_PartyVoter  WVS_LR_MedianVoter  WVS_LibCon_MedianVoter  \\\n",
       "0                         NaN                 NaN                     NaN   \n",
       "1                         NaN                 NaN                     NaN   \n",
       "2                         NaN                 NaN                     NaN   \n",
       "3                         NaN                 NaN                     NaN   \n",
       "4                         NaN                 NaN                     NaN   \n",
       "\n",
       "   v2psbars  v2psorgs  v2psprbrch  v2psprlnks  v2psplats  v2xnp_client  \\\n",
       "0       NaN       NaN         NaN         NaN        NaN           NaN   \n",
       "1       NaN       NaN         NaN         NaN        NaN           NaN   \n",
       "2       NaN       NaN         NaN         NaN        NaN           NaN   \n",
       "3       NaN       NaN         NaN         NaN        NaN           NaN   \n",
       "4       NaN       NaN         NaN         NaN        NaN           NaN   \n",
       "\n",
       "   v2xps_party  \n",
       "0          NaN  \n",
       "1          NaN  \n",
       "2          NaN  \n",
       "3          NaN  \n",
       "4          NaN  \n",
       "\n",
       "[5 rows x 606 columns]"
      ]
     },
     "execution_count": 3,
     "metadata": {},
     "output_type": "execute_result"
    }
   ],
   "source": [
    "data.head()"
   ]
  },
  {
   "cell_type": "code",
   "execution_count": 4,
   "id": "10c33deb",
   "metadata": {},
   "outputs": [
    {
     "data": {
      "text/html": [
       "<div>\n",
       "<style scoped>\n",
       "    .dataframe tbody tr th:only-of-type {\n",
       "        vertical-align: middle;\n",
       "    }\n",
       "\n",
       "    .dataframe tbody tr th {\n",
       "        vertical-align: top;\n",
       "    }\n",
       "\n",
       "    .dataframe thead th {\n",
       "        text-align: right;\n",
       "    }\n",
       "</style>\n",
       "<table border=\"1\" class=\"dataframe\">\n",
       "  <thead>\n",
       "    <tr style=\"text-align: right;\">\n",
       "      <th></th>\n",
       "      <th>A_WAVE</th>\n",
       "      <th>A_YEAR</th>\n",
       "      <th>A_STUDY</th>\n",
       "      <th>B_COUNTRY</th>\n",
       "      <th>C_COW_NUM</th>\n",
       "      <th>D_INTERVIEW</th>\n",
       "      <th>S007</th>\n",
       "      <th>J_INTDATE</th>\n",
       "      <th>FW_END</th>\n",
       "      <th>FW_START</th>\n",
       "      <th>...</th>\n",
       "      <th>WVS_Polmistrust_PartyVoter</th>\n",
       "      <th>WVS_LR_MedianVoter</th>\n",
       "      <th>WVS_LibCon_MedianVoter</th>\n",
       "      <th>v2psbars</th>\n",
       "      <th>v2psorgs</th>\n",
       "      <th>v2psprbrch</th>\n",
       "      <th>v2psprlnks</th>\n",
       "      <th>v2psplats</th>\n",
       "      <th>v2xnp_client</th>\n",
       "      <th>v2xps_party</th>\n",
       "    </tr>\n",
       "  </thead>\n",
       "  <tbody>\n",
       "    <tr>\n",
       "      <th>count</th>\n",
       "      <td>2415.0</td>\n",
       "      <td>2415.0</td>\n",
       "      <td>2415.0</td>\n",
       "      <td>2415.0</td>\n",
       "      <td>2415.0</td>\n",
       "      <td>2.415000e+03</td>\n",
       "      <td>2.415000e+03</td>\n",
       "      <td>2.415000e+03</td>\n",
       "      <td>2415.0</td>\n",
       "      <td>2415.0</td>\n",
       "      <td>...</td>\n",
       "      <td>0.0</td>\n",
       "      <td>0.0</td>\n",
       "      <td>0.0</td>\n",
       "      <td>0.0</td>\n",
       "      <td>0.0</td>\n",
       "      <td>0.0</td>\n",
       "      <td>0.0</td>\n",
       "      <td>0.0</td>\n",
       "      <td>0.0</td>\n",
       "      <td>0.0</td>\n",
       "    </tr>\n",
       "    <tr>\n",
       "      <th>mean</th>\n",
       "      <td>7.0</td>\n",
       "      <td>2018.0</td>\n",
       "      <td>2.0</td>\n",
       "      <td>792.0</td>\n",
       "      <td>640.0</td>\n",
       "      <td>7.920712e+08</td>\n",
       "      <td>7.927212e+08</td>\n",
       "      <td>2.018045e+07</td>\n",
       "      <td>201805.0</td>\n",
       "      <td>201803.0</td>\n",
       "      <td>...</td>\n",
       "      <td>NaN</td>\n",
       "      <td>NaN</td>\n",
       "      <td>NaN</td>\n",
       "      <td>NaN</td>\n",
       "      <td>NaN</td>\n",
       "      <td>NaN</td>\n",
       "      <td>NaN</td>\n",
       "      <td>NaN</td>\n",
       "      <td>NaN</td>\n",
       "      <td>NaN</td>\n",
       "    </tr>\n",
       "    <tr>\n",
       "      <th>std</th>\n",
       "      <td>0.0</td>\n",
       "      <td>0.0</td>\n",
       "      <td>0.0</td>\n",
       "      <td>0.0</td>\n",
       "      <td>0.0</td>\n",
       "      <td>6.972948e+02</td>\n",
       "      <td>6.972948e+02</td>\n",
       "      <td>4.646836e+01</td>\n",
       "      <td>0.0</td>\n",
       "      <td>0.0</td>\n",
       "      <td>...</td>\n",
       "      <td>NaN</td>\n",
       "      <td>NaN</td>\n",
       "      <td>NaN</td>\n",
       "      <td>NaN</td>\n",
       "      <td>NaN</td>\n",
       "      <td>NaN</td>\n",
       "      <td>NaN</td>\n",
       "      <td>NaN</td>\n",
       "      <td>NaN</td>\n",
       "      <td>NaN</td>\n",
       "    </tr>\n",
       "    <tr>\n",
       "      <th>min</th>\n",
       "      <td>7.0</td>\n",
       "      <td>2018.0</td>\n",
       "      <td>2.0</td>\n",
       "      <td>792.0</td>\n",
       "      <td>640.0</td>\n",
       "      <td>7.920700e+08</td>\n",
       "      <td>7.927200e+08</td>\n",
       "      <td>2.018033e+07</td>\n",
       "      <td>201805.0</td>\n",
       "      <td>201803.0</td>\n",
       "      <td>...</td>\n",
       "      <td>NaN</td>\n",
       "      <td>NaN</td>\n",
       "      <td>NaN</td>\n",
       "      <td>NaN</td>\n",
       "      <td>NaN</td>\n",
       "      <td>NaN</td>\n",
       "      <td>NaN</td>\n",
       "      <td>NaN</td>\n",
       "      <td>NaN</td>\n",
       "      <td>NaN</td>\n",
       "    </tr>\n",
       "    <tr>\n",
       "      <th>25%</th>\n",
       "      <td>7.0</td>\n",
       "      <td>2018.0</td>\n",
       "      <td>2.0</td>\n",
       "      <td>792.0</td>\n",
       "      <td>640.0</td>\n",
       "      <td>7.920706e+08</td>\n",
       "      <td>7.927206e+08</td>\n",
       "      <td>2.018042e+07</td>\n",
       "      <td>201805.0</td>\n",
       "      <td>201803.0</td>\n",
       "      <td>...</td>\n",
       "      <td>NaN</td>\n",
       "      <td>NaN</td>\n",
       "      <td>NaN</td>\n",
       "      <td>NaN</td>\n",
       "      <td>NaN</td>\n",
       "      <td>NaN</td>\n",
       "      <td>NaN</td>\n",
       "      <td>NaN</td>\n",
       "      <td>NaN</td>\n",
       "      <td>NaN</td>\n",
       "    </tr>\n",
       "    <tr>\n",
       "      <th>50%</th>\n",
       "      <td>7.0</td>\n",
       "      <td>2018.0</td>\n",
       "      <td>2.0</td>\n",
       "      <td>792.0</td>\n",
       "      <td>640.0</td>\n",
       "      <td>7.920712e+08</td>\n",
       "      <td>7.927212e+08</td>\n",
       "      <td>2.018042e+07</td>\n",
       "      <td>201805.0</td>\n",
       "      <td>201803.0</td>\n",
       "      <td>...</td>\n",
       "      <td>NaN</td>\n",
       "      <td>NaN</td>\n",
       "      <td>NaN</td>\n",
       "      <td>NaN</td>\n",
       "      <td>NaN</td>\n",
       "      <td>NaN</td>\n",
       "      <td>NaN</td>\n",
       "      <td>NaN</td>\n",
       "      <td>NaN</td>\n",
       "      <td>NaN</td>\n",
       "    </tr>\n",
       "    <tr>\n",
       "      <th>75%</th>\n",
       "      <td>7.0</td>\n",
       "      <td>2018.0</td>\n",
       "      <td>2.0</td>\n",
       "      <td>792.0</td>\n",
       "      <td>640.0</td>\n",
       "      <td>7.920718e+08</td>\n",
       "      <td>7.927218e+08</td>\n",
       "      <td>2.018050e+07</td>\n",
       "      <td>201805.0</td>\n",
       "      <td>201803.0</td>\n",
       "      <td>...</td>\n",
       "      <td>NaN</td>\n",
       "      <td>NaN</td>\n",
       "      <td>NaN</td>\n",
       "      <td>NaN</td>\n",
       "      <td>NaN</td>\n",
       "      <td>NaN</td>\n",
       "      <td>NaN</td>\n",
       "      <td>NaN</td>\n",
       "      <td>NaN</td>\n",
       "      <td>NaN</td>\n",
       "    </tr>\n",
       "    <tr>\n",
       "      <th>max</th>\n",
       "      <td>7.0</td>\n",
       "      <td>2018.0</td>\n",
       "      <td>2.0</td>\n",
       "      <td>792.0</td>\n",
       "      <td>640.0</td>\n",
       "      <td>7.920724e+08</td>\n",
       "      <td>7.927224e+08</td>\n",
       "      <td>2.018052e+07</td>\n",
       "      <td>201805.0</td>\n",
       "      <td>201803.0</td>\n",
       "      <td>...</td>\n",
       "      <td>NaN</td>\n",
       "      <td>NaN</td>\n",
       "      <td>NaN</td>\n",
       "      <td>NaN</td>\n",
       "      <td>NaN</td>\n",
       "      <td>NaN</td>\n",
       "      <td>NaN</td>\n",
       "      <td>NaN</td>\n",
       "      <td>NaN</td>\n",
       "      <td>NaN</td>\n",
       "    </tr>\n",
       "  </tbody>\n",
       "</table>\n",
       "<p>8 rows × 597 columns</p>\n",
       "</div>"
      ],
      "text/plain": [
       "       A_WAVE  A_YEAR  A_STUDY  B_COUNTRY  C_COW_NUM   D_INTERVIEW  \\\n",
       "count  2415.0  2415.0   2415.0     2415.0     2415.0  2.415000e+03   \n",
       "mean      7.0  2018.0      2.0      792.0      640.0  7.920712e+08   \n",
       "std       0.0     0.0      0.0        0.0        0.0  6.972948e+02   \n",
       "min       7.0  2018.0      2.0      792.0      640.0  7.920700e+08   \n",
       "25%       7.0  2018.0      2.0      792.0      640.0  7.920706e+08   \n",
       "50%       7.0  2018.0      2.0      792.0      640.0  7.920712e+08   \n",
       "75%       7.0  2018.0      2.0      792.0      640.0  7.920718e+08   \n",
       "max       7.0  2018.0      2.0      792.0      640.0  7.920724e+08   \n",
       "\n",
       "               S007     J_INTDATE    FW_END  FW_START  ...  \\\n",
       "count  2.415000e+03  2.415000e+03    2415.0    2415.0  ...   \n",
       "mean   7.927212e+08  2.018045e+07  201805.0  201803.0  ...   \n",
       "std    6.972948e+02  4.646836e+01       0.0       0.0  ...   \n",
       "min    7.927200e+08  2.018033e+07  201805.0  201803.0  ...   \n",
       "25%    7.927206e+08  2.018042e+07  201805.0  201803.0  ...   \n",
       "50%    7.927212e+08  2.018042e+07  201805.0  201803.0  ...   \n",
       "75%    7.927218e+08  2.018050e+07  201805.0  201803.0  ...   \n",
       "max    7.927224e+08  2.018052e+07  201805.0  201803.0  ...   \n",
       "\n",
       "       WVS_Polmistrust_PartyVoter  WVS_LR_MedianVoter  WVS_LibCon_MedianVoter  \\\n",
       "count                         0.0                 0.0                     0.0   \n",
       "mean                          NaN                 NaN                     NaN   \n",
       "std                           NaN                 NaN                     NaN   \n",
       "min                           NaN                 NaN                     NaN   \n",
       "25%                           NaN                 NaN                     NaN   \n",
       "50%                           NaN                 NaN                     NaN   \n",
       "75%                           NaN                 NaN                     NaN   \n",
       "max                           NaN                 NaN                     NaN   \n",
       "\n",
       "       v2psbars  v2psorgs  v2psprbrch  v2psprlnks  v2psplats  v2xnp_client  \\\n",
       "count       0.0       0.0         0.0         0.0        0.0           0.0   \n",
       "mean        NaN       NaN         NaN         NaN        NaN           NaN   \n",
       "std         NaN       NaN         NaN         NaN        NaN           NaN   \n",
       "min         NaN       NaN         NaN         NaN        NaN           NaN   \n",
       "25%         NaN       NaN         NaN         NaN        NaN           NaN   \n",
       "50%         NaN       NaN         NaN         NaN        NaN           NaN   \n",
       "75%         NaN       NaN         NaN         NaN        NaN           NaN   \n",
       "max         NaN       NaN         NaN         NaN        NaN           NaN   \n",
       "\n",
       "       v2xps_party  \n",
       "count          0.0  \n",
       "mean           NaN  \n",
       "std            NaN  \n",
       "min            NaN  \n",
       "25%            NaN  \n",
       "50%            NaN  \n",
       "75%            NaN  \n",
       "max            NaN  \n",
       "\n",
       "[8 rows x 597 columns]"
      ]
     },
     "execution_count": 4,
     "metadata": {},
     "output_type": "execute_result"
    }
   ],
   "source": [
    "data.describe()"
   ]
  },
  {
   "cell_type": "code",
   "execution_count": 7,
   "id": "6f88303f",
   "metadata": {},
   "outputs": [
    {
     "name": "stdout",
     "output_type": "stream",
     "text": [
      "<class 'pandas.core.frame.DataFrame'>\n",
      "RangeIndex: 2415 entries, 0 to 2414\n",
      "Columns: 606 entries, version to v2xps_party\n",
      "dtypes: float64(153), int64(444), object(9)\n",
      "memory usage: 11.2+ MB\n"
     ]
    }
   ],
   "source": [
    "data.info()"
   ]
  },
  {
   "cell_type": "code",
   "execution_count": 8,
   "id": "0fde3a36",
   "metadata": {
    "scrolled": true
   },
   "outputs": [
    {
     "data": {
      "text/plain": [
       "count    2415.000000\n",
       "mean        1.500207\n",
       "std         0.500104\n",
       "min         1.000000\n",
       "25%         1.000000\n",
       "50%         2.000000\n",
       "75%         2.000000\n",
       "max         2.000000\n",
       "Name: Q260, dtype: float64"
      ]
     },
     "execution_count": 8,
     "metadata": {},
     "output_type": "execute_result"
    }
   ],
   "source": [
    "data.Q260.describe()"
   ]
  },
  {
   "cell_type": "code",
   "execution_count": 12,
   "id": "cfcaf4ce",
   "metadata": {
    "scrolled": false
   },
   "outputs": [
    {
     "data": {
      "text/plain": [
       "2    1208\n",
       "1    1207\n",
       "Name: Q260, dtype: int64"
      ]
     },
     "execution_count": 12,
     "metadata": {},
     "output_type": "execute_result"
    }
   ],
   "source": [
    "data.Q260.value_counts()"
   ]
  },
  {
   "cell_type": "code",
   "execution_count": 14,
   "id": "36f929b7",
   "metadata": {},
   "outputs": [],
   "source": [
    "import seaborn as sns "
   ]
  },
  {
   "cell_type": "code",
   "execution_count": 20,
   "id": "033cf5cd",
   "metadata": {
    "scrolled": false
   },
   "outputs": [
    {
     "name": "stderr",
     "output_type": "stream",
     "text": [
      "C:\\Users\\ssaki\\Anaconda3\\lib\\site-packages\\seaborn\\_decorators.py:36: FutureWarning: Pass the following variables as keyword args: x, y. From version 0.12, the only valid positional argument will be `data`, and passing other arguments without an explicit keyword will result in an error or misinterpretation.\n",
      "  warnings.warn(\n"
     ]
    },
    {
     "data": {
      "image/png": "[encoded data removed]",
      "text/plain": [
       "<Figure size 1000x500 with 1 Axes>"
      ]
     },
     "metadata": {},
     "output_type": "display_data"
    }
   ],
   "source": [
    "gender_count = data.Q260.value_counts()\n",
    "plt.figure(figsize=(10,5))\n",
    "sns.barplot(gender_count.index, gender_count.values, alpha=0.8)\n",
    "plt.show()\n"
   ]
  },
  {
   "cell_type": "code",
   "execution_count": 136,
   "id": "76eff09c",
   "metadata": {},
   "outputs": [
    {
     "data": {
      "text/plain": [
       "<BarContainer object of 2 artists>"
      ]
     },
     "execution_count": 136,
     "metadata": {},
     "output_type": "execute_result"
    },
    {
     "data": {
      "image/png": "[encoded data removed]",
      "text/plain": [
       "<Figure size 640x480 with 1 Axes>"
      ]
     },
     "metadata": {},
     "output_type": "display_data"
    }
   ],
   "source": [
    "x_axis = [\"Female\", \"Male\"]\n",
    "y_axis = [1208, 1207]\n",
    "\n",
    "plt.bar(x_axis, y_axis, color = \"teal\", width = 0.8)"
   ]
  },
  {
   "cell_type": "code",
   "execution_count": 57,
   "id": "01c84362",
   "metadata": {
    "scrolled": true
   },
   "outputs": [
    {
     "data": {
      "text/plain": [
       "Text(0, 0.5, 'Count')"
      ]
     },
     "execution_count": 57,
     "metadata": {},
     "output_type": "execute_result"
    },
    {
     "data": {
      "image/png": "[encoded data removed]",
      "text/plain": [
       "<Figure size 640x480 with 1 Axes>"
      ]
     },
     "metadata": {},
     "output_type": "display_data"
    }
   ],
   "source": [
    "plt.bar(gender_count.index, gender_count.values, width=0.4, color = \"teal\")\n",
    "plt.xlabel('Gender')\n",
    "plt.ylabel('Count')"
   ]
  },
  {
   "cell_type": "code",
   "execution_count": 13,
   "id": "4f2f4f2f",
   "metadata": {
    "scrolled": true
   },
   "outputs": [
    {
     "data": {
      "text/plain": [
       "count    2415.000000\n",
       "mean       38.813665\n",
       "std        12.702839\n",
       "min        -5.000000\n",
       "25%        27.000000\n",
       "50%        36.000000\n",
       "75%        50.000000\n",
       "max        95.000000\n",
       "Name: Q262, dtype: float64"
      ]
     },
     "execution_count": 13,
     "metadata": {},
     "output_type": "execute_result"
    }
   ],
   "source": [
    "data.Q262.describe()"
   ]
  },
  {
   "cell_type": "code",
   "execution_count": 45,
   "id": "44f5b5de",
   "metadata": {
    "scrolled": true
   },
   "outputs": [],
   "source": [
    "age_group = data.Q262.value_counts(bins = 5, sort=True)"
   ]
  },
  {
   "cell_type": "code",
   "execution_count": 46,
   "id": "a462d537",
   "metadata": {},
   "outputs": [
    {
     "data": {
      "text/plain": [
       "(35.0, 55.0]      1112\n",
       "(15.0, 35.0]      1097\n",
       "(55.0, 75.0]       199\n",
       "(75.0, 95.0]         6\n",
       "(-5.101, 15.0]       1\n",
       "Name: Q262, dtype: int64"
      ]
     },
     "execution_count": 46,
     "metadata": {},
     "output_type": "execute_result"
    }
   ],
   "source": [
    "age_group"
   ]
  },
  {
   "cell_type": "code",
   "execution_count": 60,
   "id": "93a46b9e",
   "metadata": {},
   "outputs": [
    {
     "data": {
      "text/plain": [
       "<BarContainer object of 5 artists>"
      ]
     },
     "execution_count": 60,
     "metadata": {},
     "output_type": "execute_result"
    },
    {
     "data": {
      "image/png": "[encoded data removed]",
      "text/plain": [
       "<Figure size 640x480 with 1 Axes>"
      ]
     },
     "metadata": {},
     "output_type": "display_data"
    }
   ],
   "source": [
    "x_axis = [\"35-55\", \"15-35\", \"55-75\", \"75-95\", \"N/A\"]\n",
    "y_axis = [1112, 1097, 199, 6 , 1]\n",
    "\n",
    "plt.bar(x_axis, y_axis, color = \"teal\", width = 0.8)"
   ]
  },
  {
   "cell_type": "code",
   "execution_count": 139,
   "id": "d13bbd31",
   "metadata": {},
   "outputs": [
    {
     "data": {
      "text/plain": [
       "0.9146997929606625"
      ]
     },
     "execution_count": 139,
     "metadata": {},
     "output_type": "execute_result"
    }
   ],
   "source": [
    "(1112 + 1097) / 2415"
   ]
  },
  {
   "cell_type": "code",
   "execution_count": 61,
   "id": "c1c7bcb8",
   "metadata": {},
   "outputs": [
    {
     "data": {
      "text/plain": [
       "count    2415.000000\n",
       "mean        2.775569\n",
       "std         2.341793\n",
       "min        -2.000000\n",
       "25%         1.000000\n",
       "50%         1.000000\n",
       "75%         6.000000\n",
       "max         6.000000\n",
       "Name: Q273, dtype: float64"
      ]
     },
     "execution_count": 61,
     "metadata": {},
     "output_type": "execute_result"
    }
   ],
   "source": [
    "data.Q273.describe()"
   ]
  },
  {
   "cell_type": "code",
   "execution_count": 65,
   "id": "88922afa",
   "metadata": {},
   "outputs": [],
   "source": [
    "marital_status = data.Q273.value_counts(bins = 2, sort=True)"
   ]
  },
  {
   "cell_type": "code",
   "execution_count": 66,
   "id": "b876282d",
   "metadata": {},
   "outputs": [
    {
     "data": {
      "text/plain": [
       "(-2.009, 2.0]    1506\n",
       "(2.0, 6.0]        909\n",
       "Name: Q273, dtype: int64"
      ]
     },
     "execution_count": 66,
     "metadata": {},
     "output_type": "execute_result"
    }
   ],
   "source": [
    "marital_status"
   ]
  },
  {
   "cell_type": "code",
   "execution_count": 67,
   "id": "5056af4c",
   "metadata": {},
   "outputs": [],
   "source": [
    "mar_x_axis = [\"married\", \"single\"]\n",
    "mar_y_axis = [1506, 909]"
   ]
  },
  {
   "cell_type": "code",
   "execution_count": 68,
   "id": "adbf1ea7",
   "metadata": {},
   "outputs": [
    {
     "data": {
      "text/plain": [
       "<BarContainer object of 2 artists>"
      ]
     },
     "execution_count": 68,
     "metadata": {},
     "output_type": "execute_result"
    },
    {
     "data": {
      "image/png": "[encoded data removed]",
      "text/plain": [
       "<Figure size 640x480 with 1 Axes>"
      ]
     },
     "metadata": {},
     "output_type": "display_data"
    }
   ],
   "source": [
    "plt.bar(mar_x_axis, mar_y_axis, color = \"teal\", width = 0.8)"
   ]
  },
  {
   "cell_type": "code",
   "execution_count": 77,
   "id": "0767d1cc",
   "metadata": {},
   "outputs": [],
   "source": [
    "education_level = data.Q275R.value_counts(sort=True)"
   ]
  },
  {
   "cell_type": "code",
   "execution_count": 78,
   "id": "1d3854d2",
   "metadata": {
    "scrolled": true
   },
   "outputs": [
    {
     "data": {
      "text/plain": [
       " 1    1409\n",
       " 2     585\n",
       " 3     412\n",
       "-2       8\n",
       "-1       1\n",
       "Name: Q275R, dtype: int64"
      ]
     },
     "execution_count": 78,
     "metadata": {},
     "output_type": "execute_result"
    }
   ],
   "source": [
    "education_level"
   ]
  },
  {
   "cell_type": "code",
   "execution_count": 137,
   "id": "c1217d7f",
   "metadata": {},
   "outputs": [
    {
     "data": {
      "text/plain": [
       "0.8256728778467909"
      ]
     },
     "execution_count": 137,
     "metadata": {},
     "output_type": "execute_result"
    }
   ],
   "source": [
    "(1409 + 585) / 2415"
   ]
  },
  {
   "cell_type": "code",
   "execution_count": 79,
   "id": "00321a0f",
   "metadata": {},
   "outputs": [
    {
     "data": {
      "text/plain": [
       "<BarContainer object of 3 artists>"
      ]
     },
     "execution_count": 79,
     "metadata": {},
     "output_type": "execute_result"
    },
    {
     "data": {
      "image/png": "[encoded data removed]",
      "text/plain": [
       "<Figure size 640x480 with 1 Axes>"
      ]
     },
     "metadata": {},
     "output_type": "display_data"
    }
   ],
   "source": [
    "educ_x_axis = [\"primary\", \"secondary\", \"higher\"]\n",
    "educ_y_axis = [1409, 585, 412]\n",
    "plt.bar(educ_x_axis, educ_y_axis, color = \"teal\", width = 0.8)\n"
   ]
  },
  {
   "cell_type": "code",
   "execution_count": 80,
   "id": "6cc1286e",
   "metadata": {},
   "outputs": [],
   "source": [
    "income_level = data.Q288R.value_counts(sort=True)"
   ]
  },
  {
   "cell_type": "code",
   "execution_count": 81,
   "id": "1772ed5f",
   "metadata": {},
   "outputs": [
    {
     "data": {
      "text/plain": [
       " 2    1738\n",
       " 1     347\n",
       " 3     244\n",
       "-2      49\n",
       "-1      37\n",
       "Name: Q288R, dtype: int64"
      ]
     },
     "execution_count": 81,
     "metadata": {},
     "output_type": "execute_result"
    }
   ],
   "source": [
    "income_level"
   ]
  },
  {
   "cell_type": "code",
   "execution_count": 82,
   "id": "569825e8",
   "metadata": {},
   "outputs": [
    {
     "data": {
      "text/plain": [
       "<BarContainer object of 3 artists>"
      ]
     },
     "execution_count": 82,
     "metadata": {},
     "output_type": "execute_result"
    },
    {
     "data": {
      "image/png": "[encoded data removed]",
      "text/plain": [
       "<Figure size 640x480 with 1 Axes>"
      ]
     },
     "metadata": {},
     "output_type": "display_data"
    }
   ],
   "source": [
    "inc_x_axis = [\"medium\", \"low\", \"high\"]\n",
    "inc_y_axis = [1409, 585, 412]\n",
    "plt.bar(inc_x_axis, inc_y_axis, color = \"teal\", width = 0.8)\n"
   ]
  },
  {
   "cell_type": "code",
   "execution_count": 89,
   "id": "0dc41a16",
   "metadata": {},
   "outputs": [],
   "source": [
    "religion = data.Q289.value_counts(normalize = True, sort=True, bins = 3)"
   ]
  },
  {
   "cell_type": "code",
   "execution_count": 90,
   "id": "f670860a",
   "metadata": {},
   "outputs": [
    {
     "data": {
      "text/plain": [
       "(4.333, 9.0]                    0.980124\n",
       "(-0.333, 4.333]                 0.012422\n",
       "(-5.015000000000001, -0.333]    0.007453\n",
       "Name: Q289, dtype: float64"
      ]
     },
     "execution_count": 90,
     "metadata": {},
     "output_type": "execute_result"
    }
   ],
   "source": [
    "religion"
   ]
  },
  {
   "cell_type": "code",
   "execution_count": 92,
   "id": "dd291a76",
   "metadata": {},
   "outputs": [
    {
     "data": {
      "text/plain": [
       "<BarContainer object of 3 artists>"
      ]
     },
     "execution_count": 92,
     "metadata": {},
     "output_type": "execute_result"
    },
    {
     "data": {
      "image/png": "[encoded data removed]",
      "text/plain": [
       "<Figure size 640x480 with 1 Axes>"
      ]
     },
     "metadata": {},
     "output_type": "display_data"
    }
   ],
   "source": [
    "rel_x_axis = [\"muslim\", \"other\", \"none\"]\n",
    "rel_y_axis = [0.980124, 0.012422, 0.007453]\n",
    "plt.bar(rel_x_axis, rel_y_axis, color = \"teal\", width = 0.8)\n"
   ]
  },
  {
   "cell_type": "code",
   "execution_count": 97,
   "id": "8236004b",
   "metadata": {},
   "outputs": [],
   "source": [
    "happy = data.Q46.value_counts(bins = 3)"
   ]
  },
  {
   "cell_type": "code",
   "execution_count": 98,
   "id": "2b28782f",
   "metadata": {},
   "outputs": [
    {
     "data": {
      "text/plain": [
       "(0.0, 2.0]                    2053\n",
       "(2.0, 4.0]                     354\n",
       "(-2.0069999999999997, 0.0]       8\n",
       "Name: Q46, dtype: int64"
      ]
     },
     "execution_count": 98,
     "metadata": {},
     "output_type": "execute_result"
    }
   ],
   "source": [
    "happy"
   ]
  },
  {
   "cell_type": "code",
   "execution_count": 99,
   "id": "3c29b485",
   "metadata": {},
   "outputs": [],
   "source": [
    "hap_x_axis = [\"happy\", \"not_happy\", \"none\"]\n",
    "hap_y_axis = [2053, 354, 8]"
   ]
  },
  {
   "cell_type": "code",
   "execution_count": 100,
   "id": "df1cb8d4",
   "metadata": {
    "scrolled": true
   },
   "outputs": [
    {
     "data": {
      "text/plain": [
       "<BarContainer object of 3 artists>"
      ]
     },
     "execution_count": 100,
     "metadata": {},
     "output_type": "execute_result"
    },
    {
     "data": {
      "image/png": "[encoded data removed]",
      "text/plain": [
       "<Figure size 640x480 with 1 Axes>"
      ]
     },
     "metadata": {},
     "output_type": "display_data"
    }
   ],
   "source": [
    "plt.bar(hap_x_axis, hap_y_axis, color = \"teal\", width = 0.8)\n"
   ]
  },
  {
   "cell_type": "code",
   "execution_count": 101,
   "id": "c336471c",
   "metadata": {},
   "outputs": [],
   "source": [
    "import pandas as pd\n",
    "import numpy as np\n",
    "from sklearn import preprocessing\n",
    "import matplotlib.pyplot as plt \n",
    "plt.rc(\"font\", size=14)\n",
    "from sklearn.linear_model import LogisticRegression\n",
    "from sklearn.model_selection import train_test_split\n",
    "import seaborn as sns\n",
    "sns.set(style=\"white\")\n",
    "sns.set(style=\"whitegrid\", color_codes=True)"
   ]
  },
  {
   "cell_type": "code",
   "execution_count": 105,
   "id": "678e7b8a",
   "metadata": {},
   "outputs": [],
   "source": [
    "df = pd.read_excel(\"eval.xlsx\", index_col= None, header = 0)"
   ]
  },
  {
   "cell_type": "code",
   "execution_count": 106,
   "id": "d698bed0",
   "metadata": {},
   "outputs": [
    {
     "data": {
      "text/html": [
       "<div>\n",
       "<style scoped>\n",
       "    .dataframe tbody tr th:only-of-type {\n",
       "        vertical-align: middle;\n",
       "    }\n",
       "\n",
       "    .dataframe tbody tr th {\n",
       "        vertical-align: top;\n",
       "    }\n",
       "\n",
       "    .dataframe thead th {\n",
       "        text-align: right;\n",
       "    }\n",
       "</style>\n",
       "<table border=\"1\" class=\"dataframe\">\n",
       "  <thead>\n",
       "    <tr style=\"text-align: right;\">\n",
       "      <th></th>\n",
       "      <th>happiness</th>\n",
       "      <th>gender</th>\n",
       "      <th>age_16_29</th>\n",
       "      <th>age_30_49</th>\n",
       "      <th>age_50_over</th>\n",
       "      <th>marital</th>\n",
       "      <th>educ_pri</th>\n",
       "      <th>educ_sec</th>\n",
       "      <th>educ_high</th>\n",
       "      <th>employment</th>\n",
       "      <th>inc_low</th>\n",
       "      <th>inc_mid</th>\n",
       "      <th>inc_high</th>\n",
       "      <th>religion</th>\n",
       "      <th>urban</th>\n",
       "    </tr>\n",
       "  </thead>\n",
       "  <tbody>\n",
       "    <tr>\n",
       "      <th>0</th>\n",
       "      <td>1</td>\n",
       "      <td>0</td>\n",
       "      <td>1</td>\n",
       "      <td>0</td>\n",
       "      <td>0</td>\n",
       "      <td>1</td>\n",
       "      <td>0</td>\n",
       "      <td>0</td>\n",
       "      <td>1</td>\n",
       "      <td>0</td>\n",
       "      <td>0</td>\n",
       "      <td>1</td>\n",
       "      <td>0</td>\n",
       "      <td>1</td>\n",
       "      <td>1</td>\n",
       "    </tr>\n",
       "    <tr>\n",
       "      <th>1</th>\n",
       "      <td>1</td>\n",
       "      <td>1</td>\n",
       "      <td>0</td>\n",
       "      <td>0</td>\n",
       "      <td>1</td>\n",
       "      <td>1</td>\n",
       "      <td>1</td>\n",
       "      <td>0</td>\n",
       "      <td>0</td>\n",
       "      <td>1</td>\n",
       "      <td>0</td>\n",
       "      <td>1</td>\n",
       "      <td>0</td>\n",
       "      <td>1</td>\n",
       "      <td>0</td>\n",
       "    </tr>\n",
       "    <tr>\n",
       "      <th>2</th>\n",
       "      <td>1</td>\n",
       "      <td>0</td>\n",
       "      <td>0</td>\n",
       "      <td>1</td>\n",
       "      <td>0</td>\n",
       "      <td>1</td>\n",
       "      <td>0</td>\n",
       "      <td>0</td>\n",
       "      <td>1</td>\n",
       "      <td>0</td>\n",
       "      <td>0</td>\n",
       "      <td>0</td>\n",
       "      <td>1</td>\n",
       "      <td>1</td>\n",
       "      <td>0</td>\n",
       "    </tr>\n",
       "    <tr>\n",
       "      <th>3</th>\n",
       "      <td>1</td>\n",
       "      <td>0</td>\n",
       "      <td>0</td>\n",
       "      <td>1</td>\n",
       "      <td>0</td>\n",
       "      <td>1</td>\n",
       "      <td>0</td>\n",
       "      <td>0</td>\n",
       "      <td>1</td>\n",
       "      <td>1</td>\n",
       "      <td>1</td>\n",
       "      <td>0</td>\n",
       "      <td>0</td>\n",
       "      <td>1</td>\n",
       "      <td>1</td>\n",
       "    </tr>\n",
       "    <tr>\n",
       "      <th>4</th>\n",
       "      <td>1</td>\n",
       "      <td>0</td>\n",
       "      <td>0</td>\n",
       "      <td>1</td>\n",
       "      <td>0</td>\n",
       "      <td>1</td>\n",
       "      <td>0</td>\n",
       "      <td>1</td>\n",
       "      <td>0</td>\n",
       "      <td>0</td>\n",
       "      <td>0</td>\n",
       "      <td>0</td>\n",
       "      <td>1</td>\n",
       "      <td>1</td>\n",
       "      <td>1</td>\n",
       "    </tr>\n",
       "  </tbody>\n",
       "</table>\n",
       "</div>"
      ],
      "text/plain": [
       "   happiness  gender  age_16_29  age_30_49  age_50_over  marital  educ_pri  \\\n",
       "0          1       0          1          0            0        1         0   \n",
       "1          1       1          0          0            1        1         1   \n",
       "2          1       0          0          1            0        1         0   \n",
       "3          1       0          0          1            0        1         0   \n",
       "4          1       0          0          1            0        1         0   \n",
       "\n",
       "   educ_sec  educ_high  employment  inc_low  inc_mid  inc_high  religion  \\\n",
       "0         0          1           0        0        1         0         1   \n",
       "1         0          0           1        0        1         0         1   \n",
       "2         0          1           0        0        0         1         1   \n",
       "3         0          1           1        1        0         0         1   \n",
       "4         1          0           0        0        0         1         1   \n",
       "\n",
       "   urban  \n",
       "0      1  \n",
       "1      0  \n",
       "2      0  \n",
       "3      1  \n",
       "4      1  "
      ]
     },
     "execution_count": 106,
     "metadata": {},
     "output_type": "execute_result"
    }
   ],
   "source": [
    "df.head()"
   ]
  },
  {
   "cell_type": "code",
   "execution_count": 126,
   "id": "36a651d2",
   "metadata": {},
   "outputs": [],
   "source": [
    "y_data = df[\"happiness\"]\n",
    "\n",
    "x_data = df.drop('happiness', axis = 1)"
   ]
  },
  {
   "cell_type": "code",
   "execution_count": 108,
   "id": "eef7551f",
   "metadata": {},
   "outputs": [],
   "source": [
    "from sklearn.model_selection import train_test_split"
   ]
  },
  {
   "cell_type": "code",
   "execution_count": 109,
   "id": "937216e5",
   "metadata": {},
   "outputs": [],
   "source": [
    "x_training_data, x_test_data, y_training_data, y_test_data = train_test_split(x_data, y_data, test_size = 0.3)"
   ]
  },
  {
   "cell_type": "code",
   "execution_count": 110,
   "id": "85b2eec1",
   "metadata": {},
   "outputs": [],
   "source": [
    "from sklearn.linear_model import LogisticRegression"
   ]
  },
  {
   "cell_type": "code",
   "execution_count": 111,
   "id": "98ea4eca",
   "metadata": {},
   "outputs": [],
   "source": [
    "model = LogisticRegression()"
   ]
  },
  {
   "cell_type": "code",
   "execution_count": 112,
   "id": "7fc7a7ac",
   "metadata": {},
   "outputs": [
    {
     "data": {
      "text/plain": [
       "LogisticRegression()"
      ]
     },
     "execution_count": 112,
     "metadata": {},
     "output_type": "execute_result"
    }
   ],
   "source": [
    "model.fit(x_training_data, y_training_data)"
   ]
  },
  {
   "cell_type": "code",
   "execution_count": 113,
   "id": "6b09c59e",
   "metadata": {},
   "outputs": [],
   "source": [
    "predictions = model.predict(x_test_data)"
   ]
  },
  {
   "cell_type": "code",
   "execution_count": 120,
   "id": "4f1f1f74",
   "metadata": {},
   "outputs": [
    {
     "name": "stdout",
     "output_type": "stream",
     "text": [
      "              precision    recall  f1-score   support\n",
      "\n",
      "           0       0.25      0.01      0.02       111\n",
      "           1       0.84      0.99      0.91       577\n",
      "\n",
      "    accuracy                           0.84       688\n",
      "   macro avg       0.54      0.50      0.46       688\n",
      "weighted avg       0.74      0.84      0.77       688\n",
      "\n"
     ]
    }
   ],
   "source": [
    "from sklearn.metrics import classification_report\n",
    "\n",
    "print(classification_report(y_test_data, predictions))"
   ]
  },
  {
   "cell_type": "code",
   "execution_count": 115,
   "id": "4e0f1b43",
   "metadata": {
    "scrolled": false
   },
   "outputs": [
    {
     "data": {
      "text/plain": [
       "'              precision    recall  f1-score   support\\n\\n           0       0.25      0.01      0.02       111\\n           1       0.84      0.99      0.91       577\\n\\n    accuracy                           0.84       688\\n   macro avg       0.54      0.50      0.46       688\\nweighted avg       0.74      0.84      0.77       688\\n'"
      ]
     },
     "execution_count": 115,
     "metadata": {},
     "output_type": "execute_result"
    }
   ],
   "source": [
    "classification_report(y_test_data, predictions)"
   ]
  },
  {
   "cell_type": "code",
   "execution_count": 116,
   "id": "53d8e033",
   "metadata": {
    "scrolled": false
   },
   "outputs": [
    {
     "name": "stdout",
     "output_type": "stream",
     "text": [
      "Optimization terminated successfully.\n",
      "         Current function value: 0.403257\n",
      "         Iterations 8\n",
      "                              Results: Logit\n",
      "==========================================================================\n",
      "Model:                 Logit               Pseudo R-squared:    0.038     \n",
      "Dependent Variable:    happiness           AIC:                 1871.7225 \n",
      "Date:                  2023-05-14 23:42    BIC:                 1940.5634 \n",
      "No. Observations:      2291                Log-Likelihood:      -923.86   \n",
      "Df Model:              11                  LL-Null:             -960.32   \n",
      "Df Residuals:          2279                LLR p-value:         3.3846e-11\n",
      "Converged:             1.0000              Scale:               1.0000    \n",
      "No. Iterations:        8.0000                                             \n",
      "--------------------------------------------------------------------------\n",
      "             Coef.    Std.Err.      z    P>|z|      [0.025       0.975]   \n",
      "--------------------------------------------------------------------------\n",
      "gender      -0.0175       0.1375 -0.1275 0.8986       -0.2871       0.2520\n",
      "age_16_29    0.0007          nan     nan    nan           nan          nan\n",
      "age_30_49   -0.0513          nan     nan    nan           nan          nan\n",
      "age_50_over -0.0829          nan     nan    nan           nan          nan\n",
      "marital     -0.0153       0.1523 -0.1005 0.9199       -0.3137       0.2831\n",
      "educ_pri     0.1484 3105752.1598  0.0000 1.0000 -6087162.2297 6087162.5264\n",
      "educ_sec    -0.2982 3105752.1598 -0.0000 1.0000 -6087162.6763 6087162.0798\n",
      "educ_high    0.0163 3105752.1598  0.0000 1.0000 -6087162.3617 6087162.3944\n",
      "employment   0.0081       0.1435  0.0564 0.9551       -0.2733       0.2894\n",
      "inc_low     -0.8394          nan     nan    nan           nan          nan\n",
      "inc_mid      0.0757          nan     nan    nan           nan          nan\n",
      "inc_high     0.6302          nan     nan    nan           nan          nan\n",
      "religion     1.8154       0.4013  4.5236 0.0000        1.0288       2.6020\n",
      "urban        0.1022       0.1350  0.7570 0.4490       -0.1625       0.3669\n",
      "==========================================================================\n",
      "\n"
     ]
    }
   ],
   "source": [
    "import statsmodels.api as sm\n",
    "logit_model=sm.Logit(y_data,x_data)\n",
    "result=logit_model.fit()\n",
    "print(result.summary2())"
   ]
  },
  {
   "cell_type": "code",
   "execution_count": 128,
   "id": "055b250c",
   "metadata": {
    "scrolled": true
   },
   "outputs": [],
   "source": [
    "y_new_data = df[\"happiness\"]\n",
    "\n",
    "x_new_data = df.drop([\"happiness\", \"employment\", \"marital\"], axis = 1)"
   ]
  },
  {
   "cell_type": "markdown",
   "id": "c8282f27",
   "metadata": {},
   "source": [
    "# logit_model=sm.Logit(y_new_data,x_new_data)\n",
    "result2=logit_model.fit()\n",
    "print(result2.summary2())"
   ]
  },
  {
   "cell_type": "code",
   "execution_count": 130,
   "id": "236d42a4",
   "metadata": {},
   "outputs": [],
   "source": [
    "y_new2_data = df[\"happiness\"]\n",
    "\n",
    "x_new2_data = df.drop([\"happiness\", \"employment\", \"marital\", \"inc_low\", \"inc_mid\", \"inc_high\"], axis = 1)"
   ]
  },
  {
   "cell_type": "code",
   "execution_count": 131,
   "id": "60cf36b7",
   "metadata": {
    "scrolled": true
   },
   "outputs": [
    {
     "name": "stdout",
     "output_type": "stream",
     "text": [
      "Warning: Maximum number of iterations has been exceeded.\n",
      "         Current function value: 0.413263\n",
      "         Iterations: 35\n",
      "                         Results: Logit\n",
      "=================================================================\n",
      "Model:              Logit            Pseudo R-squared: 0.014     \n",
      "Dependent Variable: happiness        AIC:              1907.5703 \n",
      "Date:               2023-05-15 00:14 BIC:              1947.7275 \n",
      "No. Observations:   2291             Log-Likelihood:   -946.79   \n",
      "Df Model:           6                LL-Null:          -960.32   \n",
      "Df Residuals:       2284             LLR p-value:      0.00014010\n",
      "Converged:          0.0000           Scale:            1.0000    \n",
      "No. Iterations:     35.0000                                      \n",
      "------------------------------------------------------------------\n",
      "                 Coef.   Std.Err.    z     P>|z|    [0.025  0.975]\n",
      "------------------------------------------------------------------\n",
      "age_16_29       -0.0615       nan     nan     nan      nan     nan\n",
      "age_30_49       -0.0799       nan     nan     nan      nan     nan\n",
      "age_50_over     -0.1320       nan     nan     nan      nan     nan\n",
      "educ_pri        -0.0404       nan     nan     nan      nan     nan\n",
      "educ_sec        -0.3186       nan     nan     nan      nan     nan\n",
      "educ_high        0.0856       nan     nan     nan      nan     nan\n",
      "religion         1.8771    0.3922  4.7862  0.0000   1.1084  2.6457\n",
      "urban            0.1243    0.1333  0.9326  0.3510  -0.1370  0.3856\n",
      "=================================================================\n",
      "\n"
     ]
    },
    {
     "name": "stderr",
     "output_type": "stream",
     "text": [
      "C:\\Users\\ssaki\\Anaconda3\\lib\\site-packages\\statsmodels\\base\\model.py:604: ConvergenceWarning: Maximum Likelihood optimization failed to converge. Check mle_retvals\n",
      "  warnings.warn(\"Maximum Likelihood optimization failed to \"\n"
     ]
    }
   ],
   "source": [
    "logit_model=sm.Logit(y_new2_data,x_new2_data)\n",
    "result3=logit_model.fit()\n",
    "print(result3.summary2())"
   ]
  },
  {
   "cell_type": "code",
   "execution_count": 133,
   "id": "d8f006b0",
   "metadata": {},
   "outputs": [],
   "source": [
    "y_new3_data = df[\"happiness\"]\n",
    "\n",
    "x_new3_data = df.drop([\"happiness\", \"employment\", \"marital\", \"inc_low\", \"inc_mid\", \"inc_high\", \"age_16_29\", \"age_30_49\",  \"age_50_over\" ], axis = 1)"
   ]
  },
  {
   "cell_type": "code",
   "execution_count": 134,
   "id": "6117603f",
   "metadata": {},
   "outputs": [
    {
     "name": "stdout",
     "output_type": "stream",
     "text": [
      "Optimization terminated successfully.\n",
      "         Current function value: 0.413291\n",
      "         Iterations 6\n",
      "                         Results: Logit\n",
      "=================================================================\n",
      "Model:              Logit            Pseudo R-squared: 0.014     \n",
      "Dependent Variable: happiness        AIC:              1905.7016 \n",
      "Date:               2023-05-15 00:15 BIC:              1940.1221 \n",
      "No. Observations:   2291             Log-Likelihood:   -946.85   \n",
      "Df Model:           5                LL-Null:          -960.32   \n",
      "Df Residuals:       2285             LLR p-value:      5.8458e-05\n",
      "Converged:          1.0000           Scale:            1.0000    \n",
      "No. Iterations:     6.0000                                       \n",
      "------------------------------------------------------------------\n",
      "                Coef.   Std.Err.     z     P>|z|    [0.025  0.975]\n",
      "------------------------------------------------------------------\n",
      "gender         -0.0276    0.1190  -0.2324  0.8162  -0.2608  0.2055\n",
      "educ_pri       -0.1225    0.4114  -0.2977  0.7660  -0.9288  0.6838\n",
      "educ_sec       -0.3811    0.4181  -0.9115  0.3620  -1.2005  0.4384\n",
      "educ_high       0.0213    0.4270   0.0499  0.9602  -0.8156  0.8583\n",
      "religion        1.8794    0.3924   4.7895  0.0000   1.1103  2.6485\n",
      "urban           0.1215    0.1331   0.9134  0.3610  -0.1393  0.3823\n",
      "=================================================================\n",
      "\n"
     ]
    }
   ],
   "source": [
    "logit_model=sm.Logit(y_new3_data,x_new3_data)\n",
    "result4=logit_model.fit()\n",
    "print(result4.summary2())"
   ]
  },
  {
   "cell_type": "code",
   "execution_count": 140,
   "id": "b95b0d3a",
   "metadata": {},
   "outputs": [],
   "source": [
    "y_new4_data = df[\"happiness\"]\n",
    "\n",
    "x_new4_data = df.drop([\"happiness\", \"religion\"], axis = 1)"
   ]
  },
  {
   "cell_type": "code",
   "execution_count": 141,
   "id": "7af2ef18",
   "metadata": {},
   "outputs": [
    {
     "name": "stdout",
     "output_type": "stream",
     "text": [
      "Optimization terminated successfully.\n",
      "         Current function value: 0.407364\n",
      "         Iterations 7\n",
      "                               Results: Logit\n",
      "============================================================================\n",
      "Model:                   Logit               Pseudo R-squared:    0.028     \n",
      "Dependent Variable:      happiness           AIC:                 1888.5439 \n",
      "Date:                    2023-05-15 00:32    BIC:                 1951.6481 \n",
      "No. Observations:        2291                Log-Likelihood:      -933.27   \n",
      "Df Model:                10                  LL-Null:             -960.32   \n",
      "Df Residuals:            2280                LLR p-value:         4.6425e-08\n",
      "Converged:               1.0000              Scale:               1.0000    \n",
      "No. Iterations:          7.0000                                             \n",
      "----------------------------------------------------------------------------\n",
      "             Coef.    Std.Err.      z    P>|z|      [0.025         0.975]   \n",
      "----------------------------------------------------------------------------\n",
      "gender       0.0183       0.1365  0.1339 0.8935        -0.2493        0.2859\n",
      "age_16_29    0.6030 3347783.2687  0.0000 1.0000  -6561534.0317  6561535.2378\n",
      "age_30_49    0.5426 3347783.2687  0.0000 1.0000  -6561534.0922  6561535.1773\n",
      "age_50_over  0.5031 3347783.2687  0.0000 1.0000  -6561534.1316  6561535.1378\n",
      "marital      0.0348       0.1502  0.2319 0.8166        -0.2596        0.3293\n",
      "educ_pri     0.7550 6003696.1658  0.0000 1.0000 -11767027.5041 11767029.0142\n",
      "educ_sec     0.2946 6003696.1658  0.0000 1.0000 -11767027.9646 11767028.5537\n",
      "educ_high    0.5991 6003696.1658  0.0000 1.0000 -11767027.6600 11767028.8583\n",
      "employment  -0.0315       0.1426 -0.2211 0.8251        -0.3111        0.2480\n",
      "inc_low     -0.2653 5614347.5688 -0.0000 1.0000 -11003919.2968 11003918.7663\n",
      "inc_mid      0.6542 5614347.5688  0.0000 1.0000 -11003918.3773 11003919.6857\n",
      "inc_high     1.2598 5614347.5688  0.0000 1.0000 -11003917.7718 11003920.2913\n",
      "urban        0.0761       0.1343  0.5663 0.5712        -0.1872        0.3393\n",
      "============================================================================\n",
      "\n"
     ]
    }
   ],
   "source": [
    "logit_model=sm.Logit(y_new4_data,x_new4_data)\n",
    "result5=logit_model.fit()\n",
    "print(result5.summary2())"
   ]
  }
 ],
 "metadata": {
  "kernelspec": {
   "display_name": "Python 3 (ipykernel)",
   "language": "python",
   "name": "python3"
  },
  "language_info": {
   "codemirror_mode": {
    "name": "ipython",
    "version": 3
   },
   "file_extension": ".py",
   "mimetype": "text/x-python",
   "name": "python",
   "nbconvert_exporter": "python",
   "pygments_lexer": "ipython3",
   "version": "3.9.13"
  }
 },
 "nbformat": 4,
 "nbformat_minor": 5
}
